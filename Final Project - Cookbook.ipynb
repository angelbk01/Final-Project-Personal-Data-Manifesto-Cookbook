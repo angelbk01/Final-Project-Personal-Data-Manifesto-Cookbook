{
 "cells": [
  {
   "cell_type": "markdown",
   "id": "e7b04e98",
   "metadata": {},
   "source": [
    "# Final Project - A Data Cookbook    By: Angel N Baikakedi"
   ]
  },
  {
   "cell_type": "markdown",
   "id": "31550e33",
   "metadata": {},
   "source": [
    "Sources: Class Activity Notebooks as well as Our World in Data for the datasets. \\\n",
    "Dataset links: https://ourworldindata.org/grapher/human-development-index, \\\n",
    "https://ourworldindata.org/grapher/share-of-women-in-parliament \\\n",
    "Seaborn Handbook: https://seaborn.pydata.org/tutorial/introduction.html"
   ]
  },
  {
   "cell_type": "markdown",
   "id": "1c0743ce",
   "metadata": {},
   "source": [
    "For this project, I decided to look at the share of women in parliament and human development index (HDI) datasets. There is no particular reason for this choice besides the fact that I had proposed to work with these datasets in the final project for my Environmental Economics class.\n",
    "\n",
    "For the sake of being thorough, I will provide descriptions to the data;\n",
    "Our World in Data defines the HDI as a summary measure of key dimensions of human development: a long and healthy life, a good education, and a decent standard of living. Higher values indicate higher human development. This data was collected between the years 1990 and 2021.\n",
    "The share of women in parliament is the percentage of seats in lower or single chamber of the legislature held by women, collected between the years 1900 and 2022.\n",
    "\n",
    "There are four recipes I would like to record in my cookbook, namely:\n",
    "1) Merging datasets\n",
    "2) Finding maximum and minimum values\n",
    "3) Filtering on conditions to create new datasets\n",
    "4) Plotting data\n",
    "\n",
    "I believe that these are the main recipes that I will need throughout my career, as I hope to continue working with data in the future whether it's for individual research or for my jobs. Most times, raw data needs to be cleaned and visualized, hence my choices in recipes. I also enjoyed using these recipes for Project 9 and witnessed different ways they could be utilized.\n",
    "\n",
    "As part of the assignment requirement, I will use the fourth recipe (Plotting data) as an exhibition of how to do one thing in two different ways."
   ]
  },
  {
   "cell_type": "code",
   "execution_count": 1,
   "id": "aa960835",
   "metadata": {},
   "outputs": [],
   "source": [
    "#importing the packages we will need and loading our data\n",
    "import pandas as pd\n",
    "import numpy as np\n",
    "from matplotlib import pyplot as plt\n",
    "import seaborn as sns"
   ]
  },
  {
   "cell_type": "code",
   "execution_count": 2,
   "id": "19b9de93",
   "metadata": {},
   "outputs": [],
   "source": [
    "hdi_data= pd.read_csv(\"hdi.csv\")\n",
    "parliament_data = pd.read_csv(\"women_in_parliament.csv\")"
   ]
  },
  {
   "cell_type": "markdown",
   "id": "5738649b",
   "metadata": {},
   "source": [
    "# Recipe I: Merging Data"
   ]
  },
  {
   "cell_type": "markdown",
   "id": "067468e8",
   "metadata": {},
   "source": [
    "The code below is merging two dataframes, hdi_data and parliament_data, based on the sharedcolumns 'Entity', 'Code', and 'Year' using an inner join. So, the merged dataframe will contain only the rows where the values in the 'Entity', 'Code', and 'Year' columns are present in both datasets."
   ]
  },
  {
   "cell_type": "code",
   "execution_count": 3,
   "id": "d13ffd92",
   "metadata": {},
   "outputs": [],
   "source": [
    "merged_df = hdi_data.merge(parliament_data, on=['Entity','Code', 'Year'], how='inner')"
   ]
  },
  {
   "cell_type": "code",
   "execution_count": 4,
   "id": "91c4ee3f",
   "metadata": {},
   "outputs": [
    {
     "data": {
      "text/html": [
       "<div>\n",
       "<style scoped>\n",
       "    .dataframe tbody tr th:only-of-type {\n",
       "        vertical-align: middle;\n",
       "    }\n",
       "\n",
       "    .dataframe tbody tr th {\n",
       "        vertical-align: top;\n",
       "    }\n",
       "\n",
       "    .dataframe thead th {\n",
       "        text-align: right;\n",
       "    }\n",
       "</style>\n",
       "<table border=\"1\" class=\"dataframe\">\n",
       "  <thead>\n",
       "    <tr style=\"text-align: right;\">\n",
       "      <th></th>\n",
       "      <th>Entity</th>\n",
       "      <th>Code</th>\n",
       "      <th>Year</th>\n",
       "      <th>Human Development Index</th>\n",
       "      <th>wom_parl_vdem_owid</th>\n",
       "    </tr>\n",
       "  </thead>\n",
       "  <tbody>\n",
       "    <tr>\n",
       "      <th>0</th>\n",
       "      <td>Afghanistan</td>\n",
       "      <td>AFG</td>\n",
       "      <td>1990</td>\n",
       "      <td>0.273</td>\n",
       "      <td>3.70</td>\n",
       "    </tr>\n",
       "    <tr>\n",
       "      <th>1</th>\n",
       "      <td>Afghanistan</td>\n",
       "      <td>AFG</td>\n",
       "      <td>1991</td>\n",
       "      <td>0.279</td>\n",
       "      <td>3.70</td>\n",
       "    </tr>\n",
       "    <tr>\n",
       "      <th>2</th>\n",
       "      <td>Afghanistan</td>\n",
       "      <td>AFG</td>\n",
       "      <td>2005</td>\n",
       "      <td>0.400</td>\n",
       "      <td>27.31</td>\n",
       "    </tr>\n",
       "    <tr>\n",
       "      <th>3</th>\n",
       "      <td>Afghanistan</td>\n",
       "      <td>AFG</td>\n",
       "      <td>2006</td>\n",
       "      <td>0.409</td>\n",
       "      <td>27.31</td>\n",
       "    </tr>\n",
       "    <tr>\n",
       "      <th>4</th>\n",
       "      <td>Afghanistan</td>\n",
       "      <td>AFG</td>\n",
       "      <td>2007</td>\n",
       "      <td>0.424</td>\n",
       "      <td>27.69</td>\n",
       "    </tr>\n",
       "    <tr>\n",
       "      <th>...</th>\n",
       "      <td>...</td>\n",
       "      <td>...</td>\n",
       "      <td>...</td>\n",
       "      <td>...</td>\n",
       "      <td>...</td>\n",
       "    </tr>\n",
       "    <tr>\n",
       "      <th>4941</th>\n",
       "      <td>Zimbabwe</td>\n",
       "      <td>ZWE</td>\n",
       "      <td>2017</td>\n",
       "      <td>0.594</td>\n",
       "      <td>32.58</td>\n",
       "    </tr>\n",
       "    <tr>\n",
       "      <th>4942</th>\n",
       "      <td>Zimbabwe</td>\n",
       "      <td>ZWE</td>\n",
       "      <td>2018</td>\n",
       "      <td>0.602</td>\n",
       "      <td>31.85</td>\n",
       "    </tr>\n",
       "    <tr>\n",
       "      <th>4943</th>\n",
       "      <td>Zimbabwe</td>\n",
       "      <td>ZWE</td>\n",
       "      <td>2019</td>\n",
       "      <td>0.601</td>\n",
       "      <td>31.85</td>\n",
       "    </tr>\n",
       "    <tr>\n",
       "      <th>4944</th>\n",
       "      <td>Zimbabwe</td>\n",
       "      <td>ZWE</td>\n",
       "      <td>2020</td>\n",
       "      <td>0.600</td>\n",
       "      <td>31.85</td>\n",
       "    </tr>\n",
       "    <tr>\n",
       "      <th>4945</th>\n",
       "      <td>Zimbabwe</td>\n",
       "      <td>ZWE</td>\n",
       "      <td>2021</td>\n",
       "      <td>0.593</td>\n",
       "      <td>31.85</td>\n",
       "    </tr>\n",
       "  </tbody>\n",
       "</table>\n",
       "<p>4946 rows × 5 columns</p>\n",
       "</div>"
      ],
      "text/plain": [
       "           Entity Code  Year  Human Development Index  wom_parl_vdem_owid\n",
       "0     Afghanistan  AFG  1990                    0.273                3.70\n",
       "1     Afghanistan  AFG  1991                    0.279                3.70\n",
       "2     Afghanistan  AFG  2005                    0.400               27.31\n",
       "3     Afghanistan  AFG  2006                    0.409               27.31\n",
       "4     Afghanistan  AFG  2007                    0.424               27.69\n",
       "...           ...  ...   ...                      ...                 ...\n",
       "4941     Zimbabwe  ZWE  2017                    0.594               32.58\n",
       "4942     Zimbabwe  ZWE  2018                    0.602               31.85\n",
       "4943     Zimbabwe  ZWE  2019                    0.601               31.85\n",
       "4944     Zimbabwe  ZWE  2020                    0.600               31.85\n",
       "4945     Zimbabwe  ZWE  2021                    0.593               31.85\n",
       "\n",
       "[4946 rows x 5 columns]"
      ]
     },
     "execution_count": 4,
     "metadata": {},
     "output_type": "execute_result"
    }
   ],
   "source": [
    "merged_df"
   ]
  },
  {
   "cell_type": "markdown",
   "id": "a6245156",
   "metadata": {},
   "source": [
    "# Recipe II: Finding maximum & minimum values"
   ]
  },
  {
   "cell_type": "markdown",
   "id": "3365732b",
   "metadata": {},
   "source": [
    "For this recipe, and examples sake, I want to find the country with the maximum HDI and share of women in parliament, as well as the country with the minimum HDI and share of women in parliament to find any correspondence between development and seats held by women."
   ]
  },
  {
   "cell_type": "markdown",
   "id": "cf63cf0d",
   "metadata": {},
   "source": [
    "The code below returns the index of the first occurrence of the maximum and minimum values in the HDI and women_owid columns. The \"merged_df.loc[]\" is used to access a group of rows and columns by labels or a boolean array. In this case, it retrieves the rows in merged_df where the index corresponds to the index of the maximum/minimum value in the specified columns."
   ]
  },
  {
   "cell_type": "code",
   "execution_count": 5,
   "id": "8c788f6f",
   "metadata": {},
   "outputs": [
    {
     "data": {
      "text/plain": [
       "Entity                     Norway\n",
       "Code                          NOR\n",
       "Year                         2018\n",
       "Human Development Index     0.962\n",
       "wom_parl_vdem_owid          40.83\n",
       "Name: 3355, dtype: object"
      ]
     },
     "execution_count": 5,
     "metadata": {},
     "output_type": "execute_result"
    }
   ],
   "source": [
    "highest_HDI = merged_df.loc[merged_df['Human Development Index'].idxmax()]\n",
    "highest_HDI"
   ]
  },
  {
   "cell_type": "code",
   "execution_count": 6,
   "id": "0aba4a66",
   "metadata": {},
   "outputs": [
    {
     "data": {
      "text/plain": [
       "Entity                     Rwanda\n",
       "Code                          RWA\n",
       "Year                         2013\n",
       "Human Development Index     0.508\n",
       "wom_parl_vdem_owid          63.75\n",
       "Name: 3726, dtype: object"
      ]
     },
     "execution_count": 6,
     "metadata": {},
     "output_type": "execute_result"
    }
   ],
   "source": [
    "highest_women_in_parliament = merged_df.loc[merged_df['wom_parl_vdem_owid'].idxmax()]\n",
    "highest_women_in_parliament "
   ]
  },
  {
   "cell_type": "markdown",
   "id": "5e0899f4",
   "metadata": {},
   "source": [
    "Now the process is repeated for minimum values. The code is the same as the one above and carries out the same job, except this time max will be replaced with 'min.'"
   ]
  },
  {
   "cell_type": "code",
   "execution_count": 7,
   "id": "6f57d94a",
   "metadata": {},
   "outputs": [
    {
     "data": {
      "text/plain": [
       "Entity                     Niger\n",
       "Code                         NER\n",
       "Year                        1990\n",
       "Human Development Index    0.216\n",
       "wom_parl_vdem_owid           5.4\n",
       "Name: 3252, dtype: object"
      ]
     },
     "execution_count": 7,
     "metadata": {},
     "output_type": "execute_result"
    }
   ],
   "source": [
    "lowest_HDI = merged_df.loc[merged_df['Human Development Index'].idxmin()]\n",
    "lowest_HDI"
   ]
  },
  {
   "cell_type": "code",
   "execution_count": 8,
   "id": "d299619f",
   "metadata": {},
   "outputs": [
    {
     "data": {
      "text/plain": [
       "Entity                     Bahrain\n",
       "Code                           BHR\n",
       "Year                          1992\n",
       "Human Development Index      0.749\n",
       "wom_parl_vdem_owid             0.0\n",
       "Name: 259, dtype: object"
      ]
     },
     "execution_count": 8,
     "metadata": {},
     "output_type": "execute_result"
    }
   ],
   "source": [
    "lowest_women_in_parliament = merged_df.loc[merged_df['wom_parl_vdem_owid'].idxmin()]\n",
    "lowest_women_in_parliament "
   ]
  },
  {
   "cell_type": "markdown",
   "id": "1f3e0372",
   "metadata": {},
   "source": [
    "# Recipe III: Filtering for New Dataframes"
   ]
  },
  {
   "cell_type": "markdown",
   "id": "da769c68",
   "metadata": {},
   "source": [
    "For this recipe and examples sake, I would like to create two new dataframes. One will dataframe will filter for records with an HDI of <0.550 from the most recent records (2021). The other will filter for records with an HDI <0.550 from our earliest data (1990). The reason I chose that HDI value is because that's what the United Nations Development Program (UNDP) classifies as a developing country, thus I would like to compare the statistics and plot the data for my next recipe. "
   ]
  },
  {
   "cell_type": "markdown",
   "id": "0079dcfe",
   "metadata": {},
   "source": [
    "The code below filters the merged_df dataframe and creates two new dataframes, merged_df_90 and merged_df_21, containing only the rows where the value in the 'Year' column is equal to 1990 and 2021 respectively, as well as where the 'Human Development Index' is less than 0.550. "
   ]
  },
  {
   "cell_type": "code",
   "execution_count": 9,
   "id": "ef074cd7",
   "metadata": {},
   "outputs": [
    {
     "data": {
      "text/html": [
       "<div>\n",
       "<style scoped>\n",
       "    .dataframe tbody tr th:only-of-type {\n",
       "        vertical-align: middle;\n",
       "    }\n",
       "\n",
       "    .dataframe tbody tr th {\n",
       "        vertical-align: top;\n",
       "    }\n",
       "\n",
       "    .dataframe thead th {\n",
       "        text-align: right;\n",
       "    }\n",
       "</style>\n",
       "<table border=\"1\" class=\"dataframe\">\n",
       "  <thead>\n",
       "    <tr style=\"text-align: right;\">\n",
       "      <th></th>\n",
       "      <th>Entity</th>\n",
       "      <th>Code</th>\n",
       "      <th>Year</th>\n",
       "      <th>Human Development Index</th>\n",
       "      <th>wom_parl_vdem_owid</th>\n",
       "    </tr>\n",
       "  </thead>\n",
       "  <tbody>\n",
       "    <tr>\n",
       "      <th>0</th>\n",
       "      <td>Afghanistan</td>\n",
       "      <td>AFG</td>\n",
       "      <td>1990</td>\n",
       "      <td>0.273</td>\n",
       "      <td>3.700</td>\n",
       "    </tr>\n",
       "    <tr>\n",
       "      <th>289</th>\n",
       "      <td>Bangladesh</td>\n",
       "      <td>BGD</td>\n",
       "      <td>1990</td>\n",
       "      <td>0.397</td>\n",
       "      <td>10.300</td>\n",
       "    </tr>\n",
       "    <tr>\n",
       "      <th>654</th>\n",
       "      <td>Cambodia</td>\n",
       "      <td>KHM</td>\n",
       "      <td>1990</td>\n",
       "      <td>0.378</td>\n",
       "      <td>21.400</td>\n",
       "    </tr>\n",
       "    <tr>\n",
       "      <th>686</th>\n",
       "      <td>Cameroon</td>\n",
       "      <td>CMR</td>\n",
       "      <td>1990</td>\n",
       "      <td>0.452</td>\n",
       "      <td>14.400</td>\n",
       "    </tr>\n",
       "    <tr>\n",
       "      <th>772</th>\n",
       "      <td>Central African Republic</td>\n",
       "      <td>CAF</td>\n",
       "      <td>1990</td>\n",
       "      <td>0.338</td>\n",
       "      <td>3.800</td>\n",
       "    </tr>\n",
       "    <tr>\n",
       "      <th>857</th>\n",
       "      <td>China</td>\n",
       "      <td>CHN</td>\n",
       "      <td>1990</td>\n",
       "      <td>0.484</td>\n",
       "      <td>21.300</td>\n",
       "    </tr>\n",
       "    <tr>\n",
       "      <th>939</th>\n",
       "      <td>Congo</td>\n",
       "      <td>COG</td>\n",
       "      <td>1990</td>\n",
       "      <td>0.522</td>\n",
       "      <td>14.300</td>\n",
       "    </tr>\n",
       "    <tr>\n",
       "      <th>1002</th>\n",
       "      <td>Cote d'Ivoire</td>\n",
       "      <td>CIV</td>\n",
       "      <td>1990</td>\n",
       "      <td>0.427</td>\n",
       "      <td>4.571</td>\n",
       "    </tr>\n",
       "    <tr>\n",
       "      <th>1155</th>\n",
       "      <td>Democratic Republic of Congo</td>\n",
       "      <td>COD</td>\n",
       "      <td>1990</td>\n",
       "      <td>0.386</td>\n",
       "      <td>5.400</td>\n",
       "    </tr>\n",
       "    <tr>\n",
       "      <th>1345</th>\n",
       "      <td>El Salvador</td>\n",
       "      <td>SLV</td>\n",
       "      <td>1990</td>\n",
       "      <td>0.525</td>\n",
       "      <td>11.700</td>\n",
       "    </tr>\n",
       "    <tr>\n",
       "      <th>1431</th>\n",
       "      <td>Eswatini</td>\n",
       "      <td>SWZ</td>\n",
       "      <td>1990</td>\n",
       "      <td>0.545</td>\n",
       "      <td>3.600</td>\n",
       "    </tr>\n",
       "    <tr>\n",
       "      <th>1601</th>\n",
       "      <td>Gambia</td>\n",
       "      <td>GMB</td>\n",
       "      <td>1990</td>\n",
       "      <td>0.343</td>\n",
       "      <td>7.800</td>\n",
       "    </tr>\n",
       "    <tr>\n",
       "      <th>1745</th>\n",
       "      <td>Guatemala</td>\n",
       "      <td>GTM</td>\n",
       "      <td>1990</td>\n",
       "      <td>0.484</td>\n",
       "      <td>5.200</td>\n",
       "    </tr>\n",
       "    <tr>\n",
       "      <th>1819</th>\n",
       "      <td>Guyana</td>\n",
       "      <td>GUY</td>\n",
       "      <td>1990</td>\n",
       "      <td>0.509</td>\n",
       "      <td>36.900</td>\n",
       "    </tr>\n",
       "    <tr>\n",
       "      <th>1851</th>\n",
       "      <td>Haiti</td>\n",
       "      <td>HTI</td>\n",
       "      <td>1990</td>\n",
       "      <td>0.429</td>\n",
       "      <td>8.500</td>\n",
       "    </tr>\n",
       "    <tr>\n",
       "      <th>1881</th>\n",
       "      <td>Honduras</td>\n",
       "      <td>HND</td>\n",
       "      <td>1990</td>\n",
       "      <td>0.516</td>\n",
       "      <td>10.200</td>\n",
       "    </tr>\n",
       "    <tr>\n",
       "      <th>2009</th>\n",
       "      <td>India</td>\n",
       "      <td>IND</td>\n",
       "      <td>1990</td>\n",
       "      <td>0.434</td>\n",
       "      <td>5.000</td>\n",
       "    </tr>\n",
       "    <tr>\n",
       "      <th>2041</th>\n",
       "      <td>Indonesia</td>\n",
       "      <td>IDN</td>\n",
       "      <td>1990</td>\n",
       "      <td>0.526</td>\n",
       "      <td>12.400</td>\n",
       "    </tr>\n",
       "    <tr>\n",
       "      <th>2105</th>\n",
       "      <td>Iraq</td>\n",
       "      <td>IRQ</td>\n",
       "      <td>1990</td>\n",
       "      <td>0.528</td>\n",
       "      <td>10.800</td>\n",
       "    </tr>\n",
       "    <tr>\n",
       "      <th>2355</th>\n",
       "      <td>Kenya</td>\n",
       "      <td>KEN</td>\n",
       "      <td>1990</td>\n",
       "      <td>0.474</td>\n",
       "      <td>1.100</td>\n",
       "    </tr>\n",
       "    <tr>\n",
       "      <th>2449</th>\n",
       "      <td>Laos</td>\n",
       "      <td>LAO</td>\n",
       "      <td>1990</td>\n",
       "      <td>0.405</td>\n",
       "      <td>6.300</td>\n",
       "    </tr>\n",
       "    <tr>\n",
       "      <th>2527</th>\n",
       "      <td>Lesotho</td>\n",
       "      <td>LSO</td>\n",
       "      <td>1990</td>\n",
       "      <td>0.479</td>\n",
       "      <td>7.300</td>\n",
       "    </tr>\n",
       "    <tr>\n",
       "      <th>2699</th>\n",
       "      <td>Malawi</td>\n",
       "      <td>MWI</td>\n",
       "      <td>1990</td>\n",
       "      <td>0.303</td>\n",
       "      <td>9.800</td>\n",
       "    </tr>\n",
       "    <tr>\n",
       "      <th>2790</th>\n",
       "      <td>Mali</td>\n",
       "      <td>MLI</td>\n",
       "      <td>1990</td>\n",
       "      <td>0.237</td>\n",
       "      <td>3.700</td>\n",
       "    </tr>\n",
       "    <tr>\n",
       "      <th>3023</th>\n",
       "      <td>Morocco</td>\n",
       "      <td>MAR</td>\n",
       "      <td>1990</td>\n",
       "      <td>0.447</td>\n",
       "      <td>0.000</td>\n",
       "    </tr>\n",
       "    <tr>\n",
       "      <th>3055</th>\n",
       "      <td>Mozambique</td>\n",
       "      <td>MOZ</td>\n",
       "      <td>1990</td>\n",
       "      <td>0.238</td>\n",
       "      <td>15.700</td>\n",
       "    </tr>\n",
       "    <tr>\n",
       "      <th>3130</th>\n",
       "      <td>Nepal</td>\n",
       "      <td>NPL</td>\n",
       "      <td>1990</td>\n",
       "      <td>0.399</td>\n",
       "      <td>6.100</td>\n",
       "    </tr>\n",
       "    <tr>\n",
       "      <th>3220</th>\n",
       "      <td>Nicaragua</td>\n",
       "      <td>NIC</td>\n",
       "      <td>1990</td>\n",
       "      <td>0.490</td>\n",
       "      <td>16.300</td>\n",
       "    </tr>\n",
       "    <tr>\n",
       "      <th>3252</th>\n",
       "      <td>Niger</td>\n",
       "      <td>NER</td>\n",
       "      <td>1990</td>\n",
       "      <td>0.216</td>\n",
       "      <td>5.400</td>\n",
       "    </tr>\n",
       "    <tr>\n",
       "      <th>3377</th>\n",
       "      <td>Pakistan</td>\n",
       "      <td>PAK</td>\n",
       "      <td>1990</td>\n",
       "      <td>0.400</td>\n",
       "      <td>0.900</td>\n",
       "    </tr>\n",
       "    <tr>\n",
       "      <th>3438</th>\n",
       "      <td>Papua New Guinea</td>\n",
       "      <td>PNG</td>\n",
       "      <td>1990</td>\n",
       "      <td>0.370</td>\n",
       "      <td>0.000</td>\n",
       "    </tr>\n",
       "    <tr>\n",
       "      <th>3735</th>\n",
       "      <td>Sao Tome and Principe</td>\n",
       "      <td>STP</td>\n",
       "      <td>1990</td>\n",
       "      <td>0.485</td>\n",
       "      <td>11.800</td>\n",
       "    </tr>\n",
       "    <tr>\n",
       "      <th>3786</th>\n",
       "      <td>Senegal</td>\n",
       "      <td>SEN</td>\n",
       "      <td>1990</td>\n",
       "      <td>0.373</td>\n",
       "      <td>12.500</td>\n",
       "    </tr>\n",
       "    <tr>\n",
       "      <th>3867</th>\n",
       "      <td>Sierra Leone</td>\n",
       "      <td>SLE</td>\n",
       "      <td>1990</td>\n",
       "      <td>0.312</td>\n",
       "      <td>1.000</td>\n",
       "    </tr>\n",
       "    <tr>\n",
       "      <th>4315</th>\n",
       "      <td>Tanzania</td>\n",
       "      <td>TZA</td>\n",
       "      <td>1990</td>\n",
       "      <td>0.371</td>\n",
       "      <td>9.859</td>\n",
       "    </tr>\n",
       "    <tr>\n",
       "      <th>4378</th>\n",
       "      <td>Togo</td>\n",
       "      <td>TGO</td>\n",
       "      <td>1990</td>\n",
       "      <td>0.410</td>\n",
       "      <td>3.896</td>\n",
       "    </tr>\n",
       "    <tr>\n",
       "      <th>4523</th>\n",
       "      <td>Uganda</td>\n",
       "      <td>UGA</td>\n",
       "      <td>1990</td>\n",
       "      <td>0.329</td>\n",
       "      <td>12.200</td>\n",
       "    </tr>\n",
       "    <tr>\n",
       "      <th>4786</th>\n",
       "      <td>Vietnam</td>\n",
       "      <td>VNM</td>\n",
       "      <td>1990</td>\n",
       "      <td>0.482</td>\n",
       "      <td>17.700</td>\n",
       "    </tr>\n",
       "    <tr>\n",
       "      <th>4850</th>\n",
       "      <td>Yemen</td>\n",
       "      <td>YEM</td>\n",
       "      <td>1990</td>\n",
       "      <td>0.383</td>\n",
       "      <td>3.300</td>\n",
       "    </tr>\n",
       "    <tr>\n",
       "      <th>4882</th>\n",
       "      <td>Zambia</td>\n",
       "      <td>ZMB</td>\n",
       "      <td>1990</td>\n",
       "      <td>0.412</td>\n",
       "      <td>6.600</td>\n",
       "    </tr>\n",
       "    <tr>\n",
       "      <th>4914</th>\n",
       "      <td>Zimbabwe</td>\n",
       "      <td>ZWE</td>\n",
       "      <td>1990</td>\n",
       "      <td>0.509</td>\n",
       "      <td>14.000</td>\n",
       "    </tr>\n",
       "  </tbody>\n",
       "</table>\n",
       "</div>"
      ],
      "text/plain": [
       "                            Entity Code  Year  Human Development Index  \\\n",
       "0                      Afghanistan  AFG  1990                    0.273   \n",
       "289                     Bangladesh  BGD  1990                    0.397   \n",
       "654                       Cambodia  KHM  1990                    0.378   \n",
       "686                       Cameroon  CMR  1990                    0.452   \n",
       "772       Central African Republic  CAF  1990                    0.338   \n",
       "857                          China  CHN  1990                    0.484   \n",
       "939                          Congo  COG  1990                    0.522   \n",
       "1002                 Cote d'Ivoire  CIV  1990                    0.427   \n",
       "1155  Democratic Republic of Congo  COD  1990                    0.386   \n",
       "1345                   El Salvador  SLV  1990                    0.525   \n",
       "1431                      Eswatini  SWZ  1990                    0.545   \n",
       "1601                        Gambia  GMB  1990                    0.343   \n",
       "1745                     Guatemala  GTM  1990                    0.484   \n",
       "1819                        Guyana  GUY  1990                    0.509   \n",
       "1851                         Haiti  HTI  1990                    0.429   \n",
       "1881                      Honduras  HND  1990                    0.516   \n",
       "2009                         India  IND  1990                    0.434   \n",
       "2041                     Indonesia  IDN  1990                    0.526   \n",
       "2105                          Iraq  IRQ  1990                    0.528   \n",
       "2355                         Kenya  KEN  1990                    0.474   \n",
       "2449                          Laos  LAO  1990                    0.405   \n",
       "2527                       Lesotho  LSO  1990                    0.479   \n",
       "2699                        Malawi  MWI  1990                    0.303   \n",
       "2790                          Mali  MLI  1990                    0.237   \n",
       "3023                       Morocco  MAR  1990                    0.447   \n",
       "3055                    Mozambique  MOZ  1990                    0.238   \n",
       "3130                         Nepal  NPL  1990                    0.399   \n",
       "3220                     Nicaragua  NIC  1990                    0.490   \n",
       "3252                         Niger  NER  1990                    0.216   \n",
       "3377                      Pakistan  PAK  1990                    0.400   \n",
       "3438              Papua New Guinea  PNG  1990                    0.370   \n",
       "3735         Sao Tome and Principe  STP  1990                    0.485   \n",
       "3786                       Senegal  SEN  1990                    0.373   \n",
       "3867                  Sierra Leone  SLE  1990                    0.312   \n",
       "4315                      Tanzania  TZA  1990                    0.371   \n",
       "4378                          Togo  TGO  1990                    0.410   \n",
       "4523                        Uganda  UGA  1990                    0.329   \n",
       "4786                       Vietnam  VNM  1990                    0.482   \n",
       "4850                         Yemen  YEM  1990                    0.383   \n",
       "4882                        Zambia  ZMB  1990                    0.412   \n",
       "4914                      Zimbabwe  ZWE  1990                    0.509   \n",
       "\n",
       "      wom_parl_vdem_owid  \n",
       "0                  3.700  \n",
       "289               10.300  \n",
       "654               21.400  \n",
       "686               14.400  \n",
       "772                3.800  \n",
       "857               21.300  \n",
       "939               14.300  \n",
       "1002               4.571  \n",
       "1155               5.400  \n",
       "1345              11.700  \n",
       "1431               3.600  \n",
       "1601               7.800  \n",
       "1745               5.200  \n",
       "1819              36.900  \n",
       "1851               8.500  \n",
       "1881              10.200  \n",
       "2009               5.000  \n",
       "2041              12.400  \n",
       "2105              10.800  \n",
       "2355               1.100  \n",
       "2449               6.300  \n",
       "2527               7.300  \n",
       "2699               9.800  \n",
       "2790               3.700  \n",
       "3023               0.000  \n",
       "3055              15.700  \n",
       "3130               6.100  \n",
       "3220              16.300  \n",
       "3252               5.400  \n",
       "3377               0.900  \n",
       "3438               0.000  \n",
       "3735              11.800  \n",
       "3786              12.500  \n",
       "3867               1.000  \n",
       "4315               9.859  \n",
       "4378               3.896  \n",
       "4523              12.200  \n",
       "4786              17.700  \n",
       "4850               3.300  \n",
       "4882               6.600  \n",
       "4914              14.000  "
      ]
     },
     "execution_count": 9,
     "metadata": {},
     "output_type": "execute_result"
    }
   ],
   "source": [
    "merged_df_90 = merged_df.loc[(merged_df['Human Development Index'] <0.550) & (merged_df['Year'] == 1990)]\n",
    "merged_df_90 #displays the dataframe"
   ]
  },
  {
   "cell_type": "code",
   "execution_count": 10,
   "id": "4ad5ddc2",
   "metadata": {},
   "outputs": [
    {
     "data": {
      "text/html": [
       "<div>\n",
       "<style scoped>\n",
       "    .dataframe tbody tr th:only-of-type {\n",
       "        vertical-align: middle;\n",
       "    }\n",
       "\n",
       "    .dataframe tbody tr th {\n",
       "        vertical-align: top;\n",
       "    }\n",
       "\n",
       "    .dataframe thead th {\n",
       "        text-align: right;\n",
       "    }\n",
       "</style>\n",
       "<table border=\"1\" class=\"dataframe\">\n",
       "  <thead>\n",
       "    <tr style=\"text-align: right;\">\n",
       "      <th></th>\n",
       "      <th>Entity</th>\n",
       "      <th>Code</th>\n",
       "      <th>Year</th>\n",
       "      <th>Human Development Index</th>\n",
       "      <th>wom_parl_vdem_owid</th>\n",
       "    </tr>\n",
       "  </thead>\n",
       "  <tbody>\n",
       "    <tr>\n",
       "      <th>18</th>\n",
       "      <td>Afghanistan</td>\n",
       "      <td>AFG</td>\n",
       "      <td>2021</td>\n",
       "      <td>0.478</td>\n",
       "      <td>27.02</td>\n",
       "    </tr>\n",
       "    <tr>\n",
       "      <th>439</th>\n",
       "      <td>Benin</td>\n",
       "      <td>BEN</td>\n",
       "      <td>2021</td>\n",
       "      <td>0.525</td>\n",
       "      <td>8.43</td>\n",
       "    </tr>\n",
       "    <tr>\n",
       "      <th>624</th>\n",
       "      <td>Burkina Faso</td>\n",
       "      <td>BFA</td>\n",
       "      <td>2021</td>\n",
       "      <td>0.449</td>\n",
       "      <td>6.30</td>\n",
       "    </tr>\n",
       "    <tr>\n",
       "      <th>653</th>\n",
       "      <td>Burundi</td>\n",
       "      <td>BDI</td>\n",
       "      <td>2021</td>\n",
       "      <td>0.426</td>\n",
       "      <td>38.21</td>\n",
       "    </tr>\n",
       "    <tr>\n",
       "      <th>802</th>\n",
       "      <td>Central African Republic</td>\n",
       "      <td>CAF</td>\n",
       "      <td>2021</td>\n",
       "      <td>0.404</td>\n",
       "      <td>12.86</td>\n",
       "    </tr>\n",
       "    <tr>\n",
       "      <th>824</th>\n",
       "      <td>Chad</td>\n",
       "      <td>TCD</td>\n",
       "      <td>2021</td>\n",
       "      <td>0.394</td>\n",
       "      <td>15.43</td>\n",
       "    </tr>\n",
       "    <tr>\n",
       "      <th>1175</th>\n",
       "      <td>Democratic Republic of Congo</td>\n",
       "      <td>COD</td>\n",
       "      <td>2021</td>\n",
       "      <td>0.479</td>\n",
       "      <td>12.80</td>\n",
       "    </tr>\n",
       "    <tr>\n",
       "      <th>1234</th>\n",
       "      <td>Djibouti</td>\n",
       "      <td>DJI</td>\n",
       "      <td>2021</td>\n",
       "      <td>0.509</td>\n",
       "      <td>26.15</td>\n",
       "    </tr>\n",
       "    <tr>\n",
       "      <th>1484</th>\n",
       "      <td>Ethiopia</td>\n",
       "      <td>ETH</td>\n",
       "      <td>2021</td>\n",
       "      <td>0.498</td>\n",
       "      <td>42.59</td>\n",
       "    </tr>\n",
       "    <tr>\n",
       "      <th>1629</th>\n",
       "      <td>Gambia</td>\n",
       "      <td>GMB</td>\n",
       "      <td>2021</td>\n",
       "      <td>0.500</td>\n",
       "      <td>8.62</td>\n",
       "    </tr>\n",
       "    <tr>\n",
       "      <th>1801</th>\n",
       "      <td>Guinea</td>\n",
       "      <td>GIN</td>\n",
       "      <td>2021</td>\n",
       "      <td>0.465</td>\n",
       "      <td>16.67</td>\n",
       "    </tr>\n",
       "    <tr>\n",
       "      <th>1818</th>\n",
       "      <td>Guinea-Bissau</td>\n",
       "      <td>GNB</td>\n",
       "      <td>2021</td>\n",
       "      <td>0.483</td>\n",
       "      <td>13.73</td>\n",
       "    </tr>\n",
       "    <tr>\n",
       "      <th>1880</th>\n",
       "      <td>Haiti</td>\n",
       "      <td>HTI</td>\n",
       "      <td>2021</td>\n",
       "      <td>0.535</td>\n",
       "      <td>2.54</td>\n",
       "    </tr>\n",
       "    <tr>\n",
       "      <th>2558</th>\n",
       "      <td>Lesotho</td>\n",
       "      <td>LSO</td>\n",
       "      <td>2021</td>\n",
       "      <td>0.514</td>\n",
       "      <td>23.33</td>\n",
       "    </tr>\n",
       "    <tr>\n",
       "      <th>2581</th>\n",
       "      <td>Liberia</td>\n",
       "      <td>LBR</td>\n",
       "      <td>2021</td>\n",
       "      <td>0.481</td>\n",
       "      <td>10.96</td>\n",
       "    </tr>\n",
       "    <tr>\n",
       "      <th>2698</th>\n",
       "      <td>Madagascar</td>\n",
       "      <td>MDG</td>\n",
       "      <td>2021</td>\n",
       "      <td>0.501</td>\n",
       "      <td>17.88</td>\n",
       "    </tr>\n",
       "    <tr>\n",
       "      <th>2730</th>\n",
       "      <td>Malawi</td>\n",
       "      <td>MWI</td>\n",
       "      <td>2021</td>\n",
       "      <td>0.512</td>\n",
       "      <td>22.92</td>\n",
       "    </tr>\n",
       "    <tr>\n",
       "      <th>2818</th>\n",
       "      <td>Mali</td>\n",
       "      <td>MLI</td>\n",
       "      <td>2021</td>\n",
       "      <td>0.428</td>\n",
       "      <td>27.27</td>\n",
       "    </tr>\n",
       "    <tr>\n",
       "      <th>3086</th>\n",
       "      <td>Mozambique</td>\n",
       "      <td>MOZ</td>\n",
       "      <td>2021</td>\n",
       "      <td>0.446</td>\n",
       "      <td>42.40</td>\n",
       "    </tr>\n",
       "    <tr>\n",
       "      <th>3280</th>\n",
       "      <td>Niger</td>\n",
       "      <td>NER</td>\n",
       "      <td>2021</td>\n",
       "      <td>0.400</td>\n",
       "      <td>25.90</td>\n",
       "    </tr>\n",
       "    <tr>\n",
       "      <th>3299</th>\n",
       "      <td>Nigeria</td>\n",
       "      <td>NGA</td>\n",
       "      <td>2021</td>\n",
       "      <td>0.535</td>\n",
       "      <td>3.61</td>\n",
       "    </tr>\n",
       "    <tr>\n",
       "      <th>3405</th>\n",
       "      <td>Pakistan</td>\n",
       "      <td>PAK</td>\n",
       "      <td>2021</td>\n",
       "      <td>0.544</td>\n",
       "      <td>20.18</td>\n",
       "    </tr>\n",
       "    <tr>\n",
       "      <th>3734</th>\n",
       "      <td>Rwanda</td>\n",
       "      <td>RWA</td>\n",
       "      <td>2021</td>\n",
       "      <td>0.534</td>\n",
       "      <td>61.25</td>\n",
       "    </tr>\n",
       "    <tr>\n",
       "      <th>3817</th>\n",
       "      <td>Senegal</td>\n",
       "      <td>SEN</td>\n",
       "      <td>2021</td>\n",
       "      <td>0.511</td>\n",
       "      <td>43.03</td>\n",
       "    </tr>\n",
       "    <tr>\n",
       "      <th>3889</th>\n",
       "      <td>Sierra Leone</td>\n",
       "      <td>SLE</td>\n",
       "      <td>2021</td>\n",
       "      <td>0.477</td>\n",
       "      <td>12.33</td>\n",
       "    </tr>\n",
       "    <tr>\n",
       "      <th>4077</th>\n",
       "      <td>South Sudan</td>\n",
       "      <td>SSD</td>\n",
       "      <td>2021</td>\n",
       "      <td>0.385</td>\n",
       "      <td>33.73</td>\n",
       "    </tr>\n",
       "    <tr>\n",
       "      <th>4346</th>\n",
       "      <td>Tanzania</td>\n",
       "      <td>TZA</td>\n",
       "      <td>2021</td>\n",
       "      <td>0.549</td>\n",
       "      <td>36.86</td>\n",
       "    </tr>\n",
       "    <tr>\n",
       "      <th>4409</th>\n",
       "      <td>Togo</td>\n",
       "      <td>TGO</td>\n",
       "      <td>2021</td>\n",
       "      <td>0.539</td>\n",
       "      <td>18.68</td>\n",
       "    </tr>\n",
       "    <tr>\n",
       "      <th>4554</th>\n",
       "      <td>Uganda</td>\n",
       "      <td>UGA</td>\n",
       "      <td>2021</td>\n",
       "      <td>0.525</td>\n",
       "      <td>33.81</td>\n",
       "    </tr>\n",
       "    <tr>\n",
       "      <th>4881</th>\n",
       "      <td>Yemen</td>\n",
       "      <td>YEM</td>\n",
       "      <td>2021</td>\n",
       "      <td>0.455</td>\n",
       "      <td>0.00</td>\n",
       "    </tr>\n",
       "  </tbody>\n",
       "</table>\n",
       "</div>"
      ],
      "text/plain": [
       "                            Entity Code  Year  Human Development Index  \\\n",
       "18                     Afghanistan  AFG  2021                    0.478   \n",
       "439                          Benin  BEN  2021                    0.525   \n",
       "624                   Burkina Faso  BFA  2021                    0.449   \n",
       "653                        Burundi  BDI  2021                    0.426   \n",
       "802       Central African Republic  CAF  2021                    0.404   \n",
       "824                           Chad  TCD  2021                    0.394   \n",
       "1175  Democratic Republic of Congo  COD  2021                    0.479   \n",
       "1234                      Djibouti  DJI  2021                    0.509   \n",
       "1484                      Ethiopia  ETH  2021                    0.498   \n",
       "1629                        Gambia  GMB  2021                    0.500   \n",
       "1801                        Guinea  GIN  2021                    0.465   \n",
       "1818                 Guinea-Bissau  GNB  2021                    0.483   \n",
       "1880                         Haiti  HTI  2021                    0.535   \n",
       "2558                       Lesotho  LSO  2021                    0.514   \n",
       "2581                       Liberia  LBR  2021                    0.481   \n",
       "2698                    Madagascar  MDG  2021                    0.501   \n",
       "2730                        Malawi  MWI  2021                    0.512   \n",
       "2818                          Mali  MLI  2021                    0.428   \n",
       "3086                    Mozambique  MOZ  2021                    0.446   \n",
       "3280                         Niger  NER  2021                    0.400   \n",
       "3299                       Nigeria  NGA  2021                    0.535   \n",
       "3405                      Pakistan  PAK  2021                    0.544   \n",
       "3734                        Rwanda  RWA  2021                    0.534   \n",
       "3817                       Senegal  SEN  2021                    0.511   \n",
       "3889                  Sierra Leone  SLE  2021                    0.477   \n",
       "4077                   South Sudan  SSD  2021                    0.385   \n",
       "4346                      Tanzania  TZA  2021                    0.549   \n",
       "4409                          Togo  TGO  2021                    0.539   \n",
       "4554                        Uganda  UGA  2021                    0.525   \n",
       "4881                         Yemen  YEM  2021                    0.455   \n",
       "\n",
       "      wom_parl_vdem_owid  \n",
       "18                 27.02  \n",
       "439                 8.43  \n",
       "624                 6.30  \n",
       "653                38.21  \n",
       "802                12.86  \n",
       "824                15.43  \n",
       "1175               12.80  \n",
       "1234               26.15  \n",
       "1484               42.59  \n",
       "1629                8.62  \n",
       "1801               16.67  \n",
       "1818               13.73  \n",
       "1880                2.54  \n",
       "2558               23.33  \n",
       "2581               10.96  \n",
       "2698               17.88  \n",
       "2730               22.92  \n",
       "2818               27.27  \n",
       "3086               42.40  \n",
       "3280               25.90  \n",
       "3299                3.61  \n",
       "3405               20.18  \n",
       "3734               61.25  \n",
       "3817               43.03  \n",
       "3889               12.33  \n",
       "4077               33.73  \n",
       "4346               36.86  \n",
       "4409               18.68  \n",
       "4554               33.81  \n",
       "4881                0.00  "
      ]
     },
     "execution_count": 10,
     "metadata": {},
     "output_type": "execute_result"
    }
   ],
   "source": [
    "merged_df_21 = merged_df.loc[(merged_df['Human Development Index'] <0.550) & (merged_df['Year'] == 2021)]\n",
    "merged_df_21"
   ]
  },
  {
   "cell_type": "markdown",
   "id": "b56210ad",
   "metadata": {},
   "source": [
    "I also want to describe the data to gain and understanding of it. \n",
    "Thus, the code below generates descriptive statistics of the dataframes. The describe() method  provides summary statistics of the numerical columns in the dataframes."
   ]
  },
  {
   "cell_type": "code",
   "execution_count": 11,
   "id": "d7877b70",
   "metadata": {},
   "outputs": [
    {
     "data": {
      "text/html": [
       "<div>\n",
       "<style scoped>\n",
       "    .dataframe tbody tr th:only-of-type {\n",
       "        vertical-align: middle;\n",
       "    }\n",
       "\n",
       "    .dataframe tbody tr th {\n",
       "        vertical-align: top;\n",
       "    }\n",
       "\n",
       "    .dataframe thead th {\n",
       "        text-align: right;\n",
       "    }\n",
       "</style>\n",
       "<table border=\"1\" class=\"dataframe\">\n",
       "  <thead>\n",
       "    <tr style=\"text-align: right;\">\n",
       "      <th></th>\n",
       "      <th>Year</th>\n",
       "      <th>Human Development Index</th>\n",
       "      <th>wom_parl_vdem_owid</th>\n",
       "    </tr>\n",
       "  </thead>\n",
       "  <tbody>\n",
       "    <tr>\n",
       "      <th>count</th>\n",
       "      <td>41.0</td>\n",
       "      <td>41.000000</td>\n",
       "      <td>41.000000</td>\n",
       "    </tr>\n",
       "    <tr>\n",
       "      <th>mean</th>\n",
       "      <td>1990.0</td>\n",
       "      <td>0.415122</td>\n",
       "      <td>9.188439</td>\n",
       "    </tr>\n",
       "    <tr>\n",
       "      <th>std</th>\n",
       "      <td>0.0</td>\n",
       "      <td>0.087028</td>\n",
       "      <td>7.109868</td>\n",
       "    </tr>\n",
       "    <tr>\n",
       "      <th>min</th>\n",
       "      <td>1990.0</td>\n",
       "      <td>0.216000</td>\n",
       "      <td>0.000000</td>\n",
       "    </tr>\n",
       "    <tr>\n",
       "      <th>25%</th>\n",
       "      <td>1990.0</td>\n",
       "      <td>0.371000</td>\n",
       "      <td>3.896000</td>\n",
       "    </tr>\n",
       "    <tr>\n",
       "      <th>50%</th>\n",
       "      <td>1990.0</td>\n",
       "      <td>0.412000</td>\n",
       "      <td>7.800000</td>\n",
       "    </tr>\n",
       "    <tr>\n",
       "      <th>75%</th>\n",
       "      <td>1990.0</td>\n",
       "      <td>0.484000</td>\n",
       "      <td>12.400000</td>\n",
       "    </tr>\n",
       "    <tr>\n",
       "      <th>max</th>\n",
       "      <td>1990.0</td>\n",
       "      <td>0.545000</td>\n",
       "      <td>36.900000</td>\n",
       "    </tr>\n",
       "  </tbody>\n",
       "</table>\n",
       "</div>"
      ],
      "text/plain": [
       "         Year  Human Development Index  wom_parl_vdem_owid\n",
       "count    41.0                41.000000           41.000000\n",
       "mean   1990.0                 0.415122            9.188439\n",
       "std       0.0                 0.087028            7.109868\n",
       "min    1990.0                 0.216000            0.000000\n",
       "25%    1990.0                 0.371000            3.896000\n",
       "50%    1990.0                 0.412000            7.800000\n",
       "75%    1990.0                 0.484000           12.400000\n",
       "max    1990.0                 0.545000           36.900000"
      ]
     },
     "execution_count": 11,
     "metadata": {},
     "output_type": "execute_result"
    }
   ],
   "source": [
    "merged_df_90.describe()"
   ]
  },
  {
   "cell_type": "code",
   "execution_count": 12,
   "id": "4f12b1e3",
   "metadata": {},
   "outputs": [
    {
     "data": {
      "text/html": [
       "<div>\n",
       "<style scoped>\n",
       "    .dataframe tbody tr th:only-of-type {\n",
       "        vertical-align: middle;\n",
       "    }\n",
       "\n",
       "    .dataframe tbody tr th {\n",
       "        vertical-align: top;\n",
       "    }\n",
       "\n",
       "    .dataframe thead th {\n",
       "        text-align: right;\n",
       "    }\n",
       "</style>\n",
       "<table border=\"1\" class=\"dataframe\">\n",
       "  <thead>\n",
       "    <tr style=\"text-align: right;\">\n",
       "      <th></th>\n",
       "      <th>Year</th>\n",
       "      <th>Human Development Index</th>\n",
       "      <th>wom_parl_vdem_owid</th>\n",
       "    </tr>\n",
       "  </thead>\n",
       "  <tbody>\n",
       "    <tr>\n",
       "      <th>count</th>\n",
       "      <td>30.0</td>\n",
       "      <td>30.000000</td>\n",
       "      <td>30.000000</td>\n",
       "    </tr>\n",
       "    <tr>\n",
       "      <th>mean</th>\n",
       "      <td>2021.0</td>\n",
       "      <td>0.482700</td>\n",
       "      <td>22.183000</td>\n",
       "    </tr>\n",
       "    <tr>\n",
       "      <th>std</th>\n",
       "      <td>0.0</td>\n",
       "      <td>0.048242</td>\n",
       "      <td>14.426974</td>\n",
       "    </tr>\n",
       "    <tr>\n",
       "      <th>min</th>\n",
       "      <td>2021.0</td>\n",
       "      <td>0.385000</td>\n",
       "      <td>0.000000</td>\n",
       "    </tr>\n",
       "    <tr>\n",
       "      <th>25%</th>\n",
       "      <td>2021.0</td>\n",
       "      <td>0.450500</td>\n",
       "      <td>12.447500</td>\n",
       "    </tr>\n",
       "    <tr>\n",
       "      <th>50%</th>\n",
       "      <td>2021.0</td>\n",
       "      <td>0.490500</td>\n",
       "      <td>19.430000</td>\n",
       "    </tr>\n",
       "    <tr>\n",
       "      <th>75%</th>\n",
       "      <td>2021.0</td>\n",
       "      <td>0.522250</td>\n",
       "      <td>32.115000</td>\n",
       "    </tr>\n",
       "    <tr>\n",
       "      <th>max</th>\n",
       "      <td>2021.0</td>\n",
       "      <td>0.549000</td>\n",
       "      <td>61.250000</td>\n",
       "    </tr>\n",
       "  </tbody>\n",
       "</table>\n",
       "</div>"
      ],
      "text/plain": [
       "         Year  Human Development Index  wom_parl_vdem_owid\n",
       "count    30.0                30.000000           30.000000\n",
       "mean   2021.0                 0.482700           22.183000\n",
       "std       0.0                 0.048242           14.426974\n",
       "min    2021.0                 0.385000            0.000000\n",
       "25%    2021.0                 0.450500           12.447500\n",
       "50%    2021.0                 0.490500           19.430000\n",
       "75%    2021.0                 0.522250           32.115000\n",
       "max    2021.0                 0.549000           61.250000"
      ]
     },
     "execution_count": 12,
     "metadata": {},
     "output_type": "execute_result"
    }
   ],
   "source": [
    "merged_df_21.describe()"
   ]
  },
  {
   "cell_type": "markdown",
   "id": "08885d88",
   "metadata": {},
   "source": [
    "# Recipe IV: Plotting Data"
   ]
  },
  {
   "cell_type": "markdown",
   "id": "503e53f2",
   "metadata": {},
   "source": [
    "This recipe plots the filtered data from the above recipe. Since the data is similar besides the years, I will use section to show two different ways to visualize it as an attempt to fulfill the requirement of having one recipe accomplishing the same task (visualization) in different ways."
   ]
  },
  {
   "cell_type": "markdown",
   "id": "379dcf6e",
   "metadata": {},
   "source": [
    "For the first visualization, I will use a scatterplot. \n",
    "The code below uses the relplot function from the Seaborn library to create a scatter plot to visualize the relationship between two variables: \"Human Development Index\" on the x-axis and \"wom_parl_vdem_owid\" on the y-axis. The data used for plotting is from the dataframes merged_df_90 and merged_df_21.\n",
    "The transparency of the points is adjusted with alpha, and the aspect ratio and height of each subplot are controlled with aspect and height, respectively."
   ]
  },
  {
   "cell_type": "code",
   "execution_count": 13,
   "id": "60eca567",
   "metadata": {},
   "outputs": [
    {
     "data": {
      "text/plain": [
       "<seaborn.axisgrid.FacetGrid at 0x123705f50>"
      ]
     },
     "execution_count": 13,
     "metadata": {},
     "output_type": "execute_result"
    },
    {
     "data": {
      "image/png": "[encoded data removed]",
      "text/plain": [
       "<Figure size 520x400 with 1 Axes>"
      ]
     },
     "metadata": {},
     "output_type": "display_data"
    }
   ],
   "source": [
    "sns.relplot(\n",
    "    data=merged_df_90,\n",
    "    x=\"Human Development Index\", y=\"wom_parl_vdem_owid\",\n",
    "    col=\"Year\", alpha = 0.5, aspect=1.3, height=4\n",
    ")"
   ]
  },
  {
   "cell_type": "code",
   "execution_count": 14,
   "id": "cada0b29",
   "metadata": {},
   "outputs": [
    {
     "data": {
      "text/plain": [
       "<seaborn.axisgrid.FacetGrid at 0x12397d390>"
      ]
     },
     "execution_count": 14,
     "metadata": {},
     "output_type": "execute_result"
    },
    {
     "data": {
      "image/png": "[encoded data removed]",
      "text/plain": [
       "<Figure size 520x400 with 1 Axes>"
      ]
     },
     "metadata": {},
     "output_type": "display_data"
    }
   ],
   "source": [
    "sns.relplot(\n",
    "    data=merged_df_21,\n",
    "    x=\"Human Development Index\", y=\"wom_parl_vdem_owid\",\n",
    "    col=\"Year\", alpha = 0.5, aspect=1.3, height=4\n",
    ")"
   ]
  },
  {
   "cell_type": "markdown",
   "id": "ad9385f0",
   "metadata": {},
   "source": [
    "I would also like to introduce a linear regression to the scatterplot for statistical purposes."
   ]
  },
  {
   "cell_type": "code",
   "execution_count": 15,
   "id": "2877b71d",
   "metadata": {},
   "outputs": [
    {
     "data": {
      "text/plain": [
       "<seaborn.axisgrid.FacetGrid at 0x12376c2d0>"
      ]
     },
     "execution_count": 15,
     "metadata": {},
     "output_type": "execute_result"
    },
    {
     "data": {
      "image/png": "[encoded data removed]",
      "text/plain": [
       "<Figure size 500x500 with 1 Axes>"
      ]
     },
     "metadata": {},
     "output_type": "display_data"
    }
   ],
   "source": [
    "sns.lmplot(data=merged_df_90, x=\"Human Development Index\", y=\"wom_parl_vdem_owid\", col=\"Year\")"
   ]
  },
  {
   "cell_type": "code",
   "execution_count": 16,
   "id": "0a2cb5d8",
   "metadata": {},
   "outputs": [
    {
     "data": {
      "text/plain": [
       "<seaborn.axisgrid.FacetGrid at 0x123761390>"
      ]
     },
     "execution_count": 16,
     "metadata": {},
     "output_type": "execute_result"
    },
    {
     "data": {
      "image/png": "[encoded data removed]",
      "text/plain": [
       "<Figure size 500x500 with 1 Axes>"
      ]
     },
     "metadata": {},
     "output_type": "display_data"
    }
   ],
   "source": [
    "sns.lmplot(data=merged_df_21, x=\"Human Development Index\", y=\"wom_parl_vdem_owid\", col=\"Year\")"
   ]
  },
  {
   "cell_type": "markdown",
   "id": "50d11644",
   "metadata": {},
   "source": [
    "The code above uses Seaborn's lmplot to create a set of scatter plots with linear regression lines. It is useful for exploring the correlation and trend between the HDI and share of women in parliament."
   ]
  },
  {
   "cell_type": "markdown",
   "id": "9f89b642",
   "metadata": {},
   "source": [
    "As a final visualization, I want to display the distributions of HDI and women in parliament for both years.\n",
    "The code below uses Seaborn's displot function to create a histogram and a kernel density estimate (KDE) plot for the \"Human Development Index\" column in the merged_df_90 and merged_df_21 dataframes. "
   ]
  },
  {
   "cell_type": "code",
   "execution_count": 17,
   "id": "fea4c60d",
   "metadata": {},
   "outputs": [
    {
     "data": {
      "text/plain": [
       "<seaborn.axisgrid.FacetGrid at 0x123b371d0>"
      ]
     },
     "execution_count": 17,
     "metadata": {},
     "output_type": "execute_result"
    },
    {
     "data": {
      "image/png": "[encoded data removed]",
      "text/plain": [
       "<Figure size 500x500 with 1 Axes>"
      ]
     },
     "metadata": {},
     "output_type": "display_data"
    }
   ],
   "source": [
    "#HDI distribution for the year 1990\n",
    "sns.displot(merged_df_90, x=\"Human Development Index\", bins=10)"
   ]
  },
  {
   "cell_type": "code",
   "execution_count": 18,
   "id": "105fd64e",
   "metadata": {},
   "outputs": [
    {
     "data": {
      "text/plain": [
       "<seaborn.axisgrid.FacetGrid at 0x123bd4590>"
      ]
     },
     "execution_count": 18,
     "metadata": {},
     "output_type": "execute_result"
    },
    {
     "data": {
      "image/png": "[encoded data removed]",
      "text/plain": [
       "<Figure size 500x500 with 1 Axes>"
      ]
     },
     "metadata": {},
     "output_type": "display_data"
    }
   ],
   "source": [
    "#HDI distribution for the year 2021\n",
    "sns.displot(merged_df_21, x=\"Human Development Index\", bins=10)"
   ]
  },
  {
   "cell_type": "code",
   "execution_count": 19,
   "id": "e8aef081",
   "metadata": {},
   "outputs": [
    {
     "data": {
      "text/plain": [
       "<seaborn.axisgrid.FacetGrid at 0x123c8ec90>"
      ]
     },
     "execution_count": 19,
     "metadata": {},
     "output_type": "execute_result"
    },
    {
     "data": {
      "image/png": "[encoded data removed]",
      "text/plain": [
       "<Figure size 500x500 with 1 Axes>"
      ]
     },
     "metadata": {},
     "output_type": "display_data"
    }
   ],
   "source": [
    "#share of women in parliament distribution for the year 1990\n",
    "sns.displot(merged_df_90, x=\"wom_parl_vdem_owid\", bins=10)"
   ]
  },
  {
   "cell_type": "code",
   "execution_count": 20,
   "id": "fcb55dd3",
   "metadata": {},
   "outputs": [
    {
     "data": {
      "text/plain": [
       "<seaborn.axisgrid.FacetGrid at 0x123d43610>"
      ]
     },
     "execution_count": 20,
     "metadata": {},
     "output_type": "execute_result"
    },
    {
     "data": {
      "image/png": "[encoded data removed]",
      "text/plain": [
       "<Figure size 500x500 with 1 Axes>"
      ]
     },
     "metadata": {},
     "output_type": "display_data"
    }
   ],
   "source": [
    "#share of women in parliament distribution for the year 1990\n",
    "sns.displot(merged_df_21, x=\"wom_parl_vdem_owid\", bins=10)"
   ]
  },
  {
   "cell_type": "markdown",
   "id": "a746c584",
   "metadata": {},
   "source": [
    "Overall, I'd like to emphasize that although these skills displayed are useful, they are not the only skills that I've picked up from the class; but those that I frequent often and anticipate to frequent in the future."
   ]
  }
 ],
 "metadata": {
  "kernelspec": {
   "display_name": "Python 3 (ipykernel)",
   "language": "python",
   "name": "python3"
  },
  "language_info": {
   "codemirror_mode": {
    "name": "ipython",
    "version": 3
   },
   "file_extension": ".py",
   "mimetype": "text/x-python",
   "name": "python",
   "nbconvert_exporter": "python",
   "pygments_lexer": "ipython3",
   "version": "3.11.4"
  }
 },
 "nbformat": 4,
 "nbformat_minor": 5
}
